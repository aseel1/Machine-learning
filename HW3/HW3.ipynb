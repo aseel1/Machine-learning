{
  "cells": [
    {
      "cell_type": "markdown",
      "metadata": {
        "id": "ocR88ScnhZjt"
      },
      "source": [
        "# Introducrtion to Machine Learning: Assignment #3\n",
        "## Submission date: 09\\07\\2024, 23:55.\n",
        "### Topics:\n",
        "- Multiclass Classification\n",
        "- PAC, VCdim\n",
        "- Bias vs Variance\n",
        "- Cross validation\n",
        "- Linear Regression\n",
        "- Decision Trees"
      ]
    },
    {
      "cell_type": "markdown",
      "metadata": {
        "id": "k3_EWgIhhddu"
      },
      "source": [
        "Submitted by:\n",
        "\n",
        "Aseel Shaheen 212393532 <br>\n",
        "Elias Badaan  212804694\n"
      ]
    },
    {
      "cell_type": "markdown",
      "metadata": {
        "id": "Z8Atq8JqiCPl"
      },
      "source": [
        "**Assignment Instruction:**\n",
        "\n",
        "· Submissions in pairs only.\n",
        "\n",
        "· Try to keep the code as clean, concise, and short as possible\n",
        "\n",
        "· If you wish to work in your IDE, you can, but you **must**,  insert the script back to the matching cells of the notebook and run the code. <br/>Only the notebook will be submitted in moodle (in `.ipynb` format).\n",
        "\n",
        "· <font color='red'>Please write your answers to question in red</font>.\n",
        "\n",
        "**Important:** All plots, results and outputs should be included in the notebook as the cells' outputs (run all cells and do not clear the output). <br/>\n",
        "\n",
        "**Important:** Your submission must be entirely your own. Any attempts of plagiarism (including ChatGPT) will lead to grade 0 and disciplinary actions.\n"
      ]
    },
    {
      "cell_type": "markdown",
      "metadata": {
        "id": "QjmNAc9voNi9"
      },
      "source": [
        "## Question 1 - Multiclass SVM\n",
        "\n",
        "You will implement and compare different multiclass methods in both separable and non separable cases."
      ]
    },
    {
      "cell_type": "code",
      "execution_count": 42,
      "metadata": {
        "id": "4H-iYP1J6D3v"
      },
      "outputs": [],
      "source": [
        "# Import libraries\n",
        "\n",
        "import numpy as np\n",
        "import matplotlib.pyplot as plt\n",
        "from sklearn.svm import SVC"
      ]
    },
    {
      "cell_type": "markdown",
      "metadata": {
        "id": "LjZUMNqT6H0T"
      },
      "source": [
        "\n",
        "As seen in tutorials, One vs One is usually a better choice than other methods, even SKlearn uses it! <br/>\n",
        "You are given a partial implementation of OvO classifier and need to complete it. Specifically:<br/>\n",
        "- ```__init__(self, n_classes=2, C=1.0)``` - Init $\\binom{n}{2}$ estimators, one for each pair of classes.\n",
        "\n",
        "- ```fit(self, X, y)``` - given data and labels learns the classifiers using linear SVM. <br/>\n",
        "\n",
        "- ```predict(self, X)``` - as learned in lectures, prediction for sample will be the majority class got most votes from all the classifiers.  Therefore, $\\forall i<j$ predict who is the winner for X in the estimator $(i,j)$ and update the bins accordinly."
      ]
    },
    {
      "cell_type": "code",
      "execution_count": 43,
      "metadata": {
        "id": "zLFSqKd66F85"
      },
      "outputs": [],
      "source": [
        "from collections import defaultdict\n",
        "\n",
        "class OneVsOneClassifier:\n",
        "    def __init__(self, n_classes=2, C=1.0):\n",
        "        # Add code here\n",
        "        # we initilaize n choose 2 estimators for one each pair of classess\n",
        "        self.n_classes = n_classes\n",
        "        self.C = C\n",
        "        # Initialize a dictionary to hold the binary classifiers for each class pair\n",
        "        self.estimators = defaultdict(lambda: SVC(C=self.C))\n",
        "        #! self.estimators = defaultdict(None)\n",
        "\n",
        "    def fit(self, X, y):\n",
        "        # Fit a binary classifier for each pair of classes\n",
        "        for i in range(self.n_classes):\n",
        "            for j in range(i + 1, self.n_classes):\n",
        "                # Select data belonging to class i or j\n",
        "                idx = np.where((y == i) | (y == j))\n",
        "                temp_X, temp_y = X[idx], y[idx]\n",
        "                # Adjust labels for the binary classifier: class i -> 0, class j -> 1\n",
        "                temp_y = np.where(temp_y == i, 0, 1)\n",
        "                # Train the classifier for this pair\n",
        "                self.estimators[(i, j)].fit(temp_X, temp_y)\n",
        "\n",
        "\n",
        "    def predict(self, X):\n",
        "        # Initialize a matrix to count votes for each class\n",
        "        votes = np.zeros((len(X), self.n_classes))\n",
        "        for i in range(self.n_classes):\n",
        "            for j in range(i + 1, self.n_classes):\n",
        "                # Predict using the classifier for classes i and j\n",
        "                preds = self.estimators[(i, j)].predict(X)\n",
        "                # Increment vote count: preds == 0 -> class i, preds == 1 -> class j\n",
        "                for k in range(len(preds)):\n",
        "                    if preds[k] == 0:\n",
        "                        votes[k, i] += 1\n",
        "                    else:\n",
        "                        votes[k, j] += 1\n",
        "        # The predicted class is the one with the most votes\n",
        "        return np.argmax(votes, axis=1)\n",
        "    \n",
        "       #! return np.argmax(scores, axis=0)\n",
        "\n",
        "    def score(self, X, y):\n",
        "        y_pred = self.predict(X)\n",
        "        return np.mean(y_pred == y)"
      ]
    },
    {
      "cell_type": "markdown",
      "metadata": {
        "id": "7lAZV_hiGt2n"
      },
      "source": [
        "The data"
      ]
    },
    {
      "cell_type": "code",
      "execution_count": 44,
      "metadata": {
        "id": "IfhFT8oYGvvX"
      },
      "outputs": [
        {
          "data": {
            "text/plain": [
              "<matplotlib.collections.PathCollection at 0x255da3d2870>"
            ]
          },
          "execution_count": 44,
          "metadata": {},
          "output_type": "execute_result"
        },
        {
          "data": {
            "image/png": "[encoded data removed]",
            "text/plain": [
              "<Figure size 640x480 with 1 Axes>"
            ]
          },
          "metadata": {},
          "output_type": "display_data"
        }
      ],
      "source": [
        "from sklearn.datasets import make_blobs\n",
        "\n",
        "np.random.seed(2)\n",
        "X, y = make_blobs(n_samples=300,cluster_std=.25, centers=np.array([(-3,1),(0,2),(3,1)]))\n",
        "plt.scatter(X[:, 0], X[:, 1], c=y, s=50)"
      ]
    },
    {
      "cell_type": "markdown",
      "metadata": {
        "id": "lPGtn-5UHkeF"
      },
      "source": [
        "This will test the classifier we just built by plotting confusion matrix and draw the decision boundaries. <br/>\n",
        "Does the value of C matter? <br/>\n",
        "<font color='red'>Write here your answer and explain<br>\n",
        "As we learned in lectures and tutorial:<br>\n",
        "The regularization parameter C  controls the trade-off between margin size and classification error such as when picking small C we allow more errors and when we pick bigger C we allow less errors as said in tutorial.<br>\n",
        "so in our case here the value C does matter, and picking smaller C will lead to the classifer to find a larger margin potentaily to better generalization ,and a larger C minimize the classifaction error on training data which may lead to overfit.</font>"
      ]
    },
    {
      "cell_type": "code",
      "execution_count": 45,
      "metadata": {
        "id": "FwEpT6JgGzAK"
      },
      "outputs": [
        {
          "data": {
            "text/plain": [
              "array([[100,   0,   0],\n",
              "       [  0, 100,   0],\n",
              "       [  0,   0, 100]], dtype=int64)"
            ]
          },
          "execution_count": 45,
          "metadata": {},
          "output_type": "execute_result"
        },
        {
          "data": {
            "image/png": "[encoded data removed]",
            "text/plain": [
              "<Figure size 640x480 with 1 Axes>"
            ]
          },
          "metadata": {},
          "output_type": "display_data"
        }
      ],
      "source": [
        "from sklearn import metrics\n",
        "\n",
        "\n",
        "clf_onevsall = OneVsOneClassifier(n_classes=3, C=2)\n",
        "clf_onevsall.fit(X,y)\n",
        "\n",
        "# create a mesh to plot in\n",
        "h = .02  # step size in the mesh\n",
        "x_min, x_max = min(X[:,0])-3,max(X[:,0])+3\n",
        "y_min, y_max = min(X[:,1])-3,max(X[:,1])+3\n",
        "xx, yy = np.meshgrid(np.arange(x_min, x_max, h),\n",
        "                     np.arange(y_min, y_max, h))\n",
        "mesh_input = np.c_[xx.ravel(), yy.ravel()]\n",
        "\n",
        "Z = clf_onevsall.predict(mesh_input)\n",
        "Z = Z.reshape(xx.shape)\n",
        "plt.contourf(xx, yy, Z, cmap=plt.cm.coolwarm, alpha=0.8)\n",
        "# Plot also the training points\n",
        "plt.scatter(X[:, 0], X[:, 1], c=y, cmap=plt.cm.coolwarm)\n",
        "\n",
        "metrics.confusion_matrix(y, clf_onevsall.predict(X))"
      ]
    },
    {
      "cell_type": "markdown",
      "metadata": {
        "id": "mWtCEnCfII-Z"
      },
      "source": [
        "Generate another data\n",
        "\n"
      ]
    },
    {
      "cell_type": "code",
      "execution_count": 46,
      "metadata": {
        "id": "ZEFVWH18IL_y"
      },
      "outputs": [
        {
          "data": {
            "text/plain": [
              "<matplotlib.collections.PathCollection at 0x255da4b9a00>"
            ]
          },
          "execution_count": 46,
          "metadata": {},
          "output_type": "execute_result"
        },
        {
          "data": {
            "image/png": "[encoded data removed]",
            "text/plain": [
              "<Figure size 640x480 with 1 Axes>"
            ]
          },
          "metadata": {},
          "output_type": "display_data"
        }
      ],
      "source": [
        "np.random.seed(2)\n",
        "X, y = make_blobs(n_samples=300,cluster_std=1.25, centers=np.array([(-3,1),(0,2),(3,1)]))\n",
        "plt.scatter(X[:, 0], X[:, 1], c=y, s=50)"
      ]
    },
    {
      "cell_type": "markdown",
      "metadata": {
        "id": "FQpZ_c0oIhbo"
      },
      "source": [
        "Look at the train vs test for different values of C. <br/> Justify the plot, by checking what happens as $C\\rightarrow 0$, $C\\rightarrow \\infty$ and mid value C.<br/>\n",
        "<font color='red'>Write here your answer and explain<br>\n",
        "As said in tutorial, small C allows constraints to be easily igonred which lead to large margin and when C goes to 0 due to the size of the margin more training points will be missclasifed and will lead to underfitting and the model wont prefrom well.<br>\n",
        "Large C on the other hand makes constraints hard to ignore which lead to narrow margins and when C is going to infinte it aims to classify all the points (hard svm) which may lead to the descion boundaries to fit the data very well which may lead to overfitting.<br>\n",
        "In the middle values of C, the model will be able to find a good balance between the margin\n",
        "</font>"
      ]
    },
    {
      "cell_type": "code",
      "execution_count": 47,
      "metadata": {
        "id": "YsU4EVXWIgtS"
      },
      "outputs": [
        {
          "name": "stderr",
          "output_type": "stream",
          "text": [
            "100%|██████████| 4/4 [00:00<00:00, 52.31it/s]\n"
          ]
        },
        {
          "data": {
            "image/png": "[encoded data removed]",
            "text/plain": [
              "<Figure size 1200x500 with 1 Axes>"
            ]
          },
          "metadata": {},
          "output_type": "display_data"
        }
      ],
      "source": [
        "from sklearn.model_selection import train_test_split\n",
        "from tqdm import tqdm\n",
        "\n",
        "X_train, X_test, y_train, y_test = train_test_split(X, y, test_size=0.2, random_state=42)\n",
        "\n",
        "# Define a list of C values\n",
        "C_values = [5e-3, 1e-2, 0.5, 1]\n",
        "\n",
        "train_accuracies = []\n",
        "test_accuracies = []\n",
        "\n",
        "for C in tqdm(C_values):\n",
        "    # Create a new OneVsOneClassifier instance\n",
        "    clf_onevsall = OneVsOneClassifier(n_classes=3, C=C)\n",
        "\n",
        "    # Fit the classifier on the training data\n",
        "    clf_onevsall.fit(X_train, y_train)\n",
        "\n",
        "    # Calculate the train and test accuracies\n",
        "    train_accuracy = clf_onevsall.score(X_train, y_train)\n",
        "    test_accuracy = clf_onevsall.score(X_test, y_test)\n",
        "\n",
        "    # Append the accuracies to the lists\n",
        "    train_accuracies.append(train_accuracy)\n",
        "    test_accuracies.append(test_accuracy)\n",
        "\n",
        "# Plot the train and test accuracies as a function of C\n",
        "\n",
        "plt.figure(figsize=(12,5))\n",
        "plt.plot(C_values, train_accuracies, label=\"Train Accuracy\")\n",
        "plt.plot(C_values, test_accuracies, label=\"Test Accuracy\")\n",
        "plt.xlabel(\"C\")\n",
        "plt.xticks(C_values)\n",
        "plt.ylabel(\"Accuracy\")\n",
        "plt.legend()\n",
        "plt.show()\n",
        "\n",
        "\n",
        "\n"
      ]
    },
    {
      "cell_type": "markdown",
      "metadata": {
        "id": "xPR_Jf5FKsXT"
      },
      "source": [
        "Now, you will experience little bit from softmax. It uses neural networks, but you dont have to understand it. The importand part is the preidction, which is obtained by:\n",
        "```\n",
        "def forward(self, x):\n",
        "        out = self.linear(x)\n",
        "        return torch.softmax(out, dim=1)\n",
        "```\n",
        "Note that this is exactly that you saw - linear score $s_j$ and then applying softmax.\n",
        "\n",
        "The best results are obtained using 300 epochs (iterations) and in each iteration the batch size is the entire data. <br/>\n",
        "1. What happens as you use 100,600 epcohs compared to 300? why is that?\n",
        "2. Use 300 epochs with batch size 50 vs the entire data. How does the batch size affect the convergence of the problem?\n",
        "\n",
        "<font color='red'>Write here your answers and explain them<br><br>\n",
        "1.when puttin num_epochs=600 we got accuarcy=0.7833<br>\n",
        "when puttin num_epochs=300 we got accuarcy=0.8<br>\n",
        "when puttin num_epochs=100 we got accuarcy=0.8167<br>\n",
        "so we can conculde that when we run 100 epchos the model is able to converge a good solution and when we increase the number of epochs the model start to overfit the training data (or doesnt neccesarly improve since 300 is the best) and when we go on 600 epcohs the overfitting increase and the model starts to learn noises also which lead to wrose accuarcy. <br><br>\n",
        "2.using 300 epochs and setting the bash size to 50 has given us the accuarcy= 0.7833.<br>\n",
        "Usaually when we use smaller batch size compared to the data may help the model to escape the local minimum which may lead to better solutions . and also smaller batches leads to the model to update its weights more frequently and also provide regulazation effect which helps prevent the overfitting. But small batches may also mean that the gradient estimates used to update the model's weights are less accurate. This can sometimes lead to convergence on suboptimal solutions, as in our case led to worse accuarcy.\n",
        "\n",
        "\n",
        "\n",
        "</font>"
      ]
    },
    {
      "cell_type": "code",
      "execution_count": 102,
      "metadata": {
        "id": "YD3jntvGK4jH"
      },
      "outputs": [
        {
          "name": "stdout",
          "output_type": "stream",
          "text": [
            "Training size is [[-1.33054229e+00  1.37828667e+00]\n",
            " [ 2.73118734e+00 -3.43785705e-01]\n",
            " [ 1.09968175e+00  2.21357665e+00]\n",
            " [-1.54809814e+00  1.48259756e+00]\n",
            " [ 4.87870562e-01  3.21938677e+00]\n",
            " [ 3.39409510e+00  3.33276026e+00]\n",
            " [-3.89906730e+00  2.70731757e-01]\n",
            " [ 3.49369153e+00 -5.04766837e-01]\n",
            " [-1.33383390e+00  1.18383607e+00]\n",
            " [-1.71204834e+00  5.33792156e+00]\n",
            " [ 1.30684748e+00  3.71127003e+00]\n",
            " [-3.52094731e+00  9.29666466e-01]\n",
            " [-3.57750669e+00  1.43861062e+00]\n",
            " [-3.29235096e-01  1.15329939e+00]\n",
            " [ 1.44065946e+00  9.03067188e-01]\n",
            " [-4.27676841e+00  1.54049463e+00]\n",
            " [ 2.41644621e+00  6.61504593e-01]\n",
            " [ 1.56056287e+00  4.42841809e-01]\n",
            " [ 2.90749628e+00 -2.33120455e-01]\n",
            " [-1.37412164e+00  1.14808669e+00]\n",
            " [ 3.97435007e+00  2.28324744e+00]\n",
            " [ 3.70338111e+00  2.72411553e-01]\n",
            " [-4.81670544e+00  5.77477778e-01]\n",
            " [ 1.92183614e+00 -1.17859113e+00]\n",
            " [-9.50142302e-03  8.32711673e-01]\n",
            " [ 3.25836237e+00  9.11404555e-01]\n",
            " [-2.52266721e+00  1.70784430e+00]\n",
            " [-9.84686925e-01  2.53094209e+00]\n",
            " [ 1.43106922e+00  1.80985289e+00]\n",
            " [-3.81656283e+00  2.05307035e+00]\n",
            " [-3.87323744e+00 -1.61114906e-01]\n",
            " [-2.77448774e+00  1.69145534e+00]\n",
            " [-3.33632120e+00  3.78920849e+00]\n",
            " [ 2.39467058e-01  1.17223874e+00]\n",
            " [-3.74219448e+00  2.43687571e+00]\n",
            " [ 1.61570159e+00  7.79642323e-01]\n",
            " [-1.60111897e+00  2.38730785e+00]\n",
            " [ 2.80698755e+00 -1.18661100e+00]\n",
            " [-4.52678646e+00  3.25559580e+00]\n",
            " [-2.01312407e+00  2.62492470e+00]\n",
            " [-2.45812959e+00  2.59797404e+00]\n",
            " [-3.47689560e+00  1.08311126e+00]\n",
            " [ 2.19531887e+00 -1.51098066e+00]\n",
            " [-2.84397044e+00  1.94562768e+00]\n",
            " [ 1.38830660e+00  1.53332648e+00]\n",
            " [ 3.36404251e+00  7.53336315e-01]\n",
            " [-2.53694433e+00  2.69954233e+00]\n",
            " [ 9.34498677e-01  1.70887875e+00]\n",
            " [ 1.93536337e+00  1.60521495e+00]\n",
            " [ 3.24532862e+00 -9.48704625e-02]\n",
            " [-4.77652153e+00  8.08131005e-01]\n",
            " [ 7.89748655e-01  2.52199091e+00]\n",
            " [-4.56928402e+00  2.17270459e+00]\n",
            " [-6.91186799e-01  2.37440852e+00]\n",
            " [-2.14258426e+00  1.90420055e+00]\n",
            " [ 3.34929220e+00 -1.27778909e+00]\n",
            " [ 7.55780613e-02  3.26763900e-01]\n",
            " [-5.67024512e+00  3.05033851e+00]\n",
            " [ 8.90076534e-01 -2.50895051e-01]\n",
            " [-2.12975253e+00  1.87177034e+00]\n",
            " [-2.31300497e+00  2.41311008e+00]\n",
            " [ 4.02570542e+00  3.88553748e-01]\n",
            " [ 1.94461470e+00  3.00224859e-01]\n",
            " [ 2.17778955e+00 -5.64310508e-01]\n",
            " [ 7.49775537e-01  2.68673058e+00]\n",
            " [-2.37757481e+00  1.15813022e+00]\n",
            " [-4.93334326e+00 -1.60331492e+00]\n",
            " [ 1.27339631e+00  4.87797286e+00]\n",
            " [ 5.85317455e+00  3.80276440e-01]\n",
            " [-5.17244938e+00  2.30102994e+00]\n",
            " [ 4.78120879e+00  4.41427629e-01]\n",
            " [ 1.33831695e+00  6.80044822e-02]\n",
            " [-5.18010747e-01  2.08414177e+00]\n",
            " [ 2.24934949e+00  3.01859155e+00]\n",
            " [-1.96912124e+00  2.56026615e+00]\n",
            " [-3.45559886e+00 -9.49743471e-02]\n",
            " [ 8.84491083e-01  2.14256735e+00]\n",
            " [ 2.25659688e+00  6.06485197e-01]\n",
            " [ 1.68135541e+00 -4.78446505e-01]\n",
            " [-2.72985499e+00 -1.32326548e+00]\n",
            " [-3.56778482e+00  1.64296340e+00]\n",
            " [ 8.91905560e-01  5.16216859e+00]\n",
            " [ 2.00640944e+00  4.93392166e-01]\n",
            " [-3.94616513e-01  3.12497372e-01]\n",
            " [ 3.37401334e+00  1.84908397e+00]\n",
            " [-1.99655163e-01  2.68618320e+00]\n",
            " [ 4.61096176e+00  1.16865683e+00]\n",
            " [-2.52441004e+00  7.28580914e-01]\n",
            " [ 2.97792415e+00  1.29505115e+00]\n",
            " [ 6.41564305e-01  1.58144484e+00]\n",
            " [-3.42352746e+00  7.04769961e-01]\n",
            " [-3.50486534e+00 -7.30648333e-01]\n",
            " [ 2.00206409e+00  1.00707225e+00]\n",
            " [-3.13182267e+00  4.28249307e+00]\n",
            " [-3.79334913e+00  1.63549530e+00]\n",
            " [ 3.61754484e+00  2.93284706e+00]\n",
            " [ 3.64854516e+00  1.45556001e+00]\n",
            " [ 6.20223571e-01 -4.97675473e-01]\n",
            " [ 1.86241795e+00  2.47056774e+00]\n",
            " [-1.16540249e+00  5.80403327e-01]\n",
            " [ 3.64865616e+00  3.83756361e-01]\n",
            " [ 1.88298849e+00  1.93987794e+00]\n",
            " [-1.32670718e+00  1.86435397e+00]\n",
            " [ 2.05239330e+00  2.38962213e+00]\n",
            " [-4.64398905e-01  5.95120746e+00]\n",
            " [ 7.76749198e-01  3.74010638e-01]\n",
            " [-5.55040381e+00  1.05781940e+00]\n",
            " [ 1.89609305e+00  2.93173353e+00]\n",
            " [-2.34462946e+00  1.91909947e+00]\n",
            " [ 9.06691574e-01  1.55065693e+00]\n",
            " [ 3.14724569e+00  3.29143364e-01]\n",
            " [-2.60879536e-01  2.17202249e+00]\n",
            " [-2.06004394e+00 -2.42201229e-01]\n",
            " [-4.41641659e+00  1.54136569e+00]\n",
            " [-1.49374987e+00  1.39008682e+00]\n",
            " [ 1.51381977e-01  9.41464060e-01]\n",
            " [-2.69820046e+00  1.62178206e+00]\n",
            " [ 2.13586578e+00  2.02640110e+00]\n",
            " [-2.16338957e-01  1.50581700e+00]\n",
            " [-2.99998780e+00  1.67794072e+00]\n",
            " [ 1.93916750e+00  1.41442456e+00]\n",
            " [-3.52414560e+00  8.34588877e-01]\n",
            " [-3.40631204e+00  2.99706867e-01]\n",
            " [-4.32599880e+00  1.73958315e+00]\n",
            " [ 1.81396237e+00  6.68840150e-01]\n",
            " [ 1.02485640e+00  1.21110165e+00]\n",
            " [ 1.64181481e+00  7.11353128e-01]\n",
            " [-2.94807576e+00 -3.97406806e-01]\n",
            " [ 4.08833798e-01  1.80800694e-01]\n",
            " [ 7.94204697e-01  4.62778658e+00]\n",
            " [-8.72713747e-01  2.29993900e+00]\n",
            " [ 2.01897034e+00  2.53200776e+00]\n",
            " [-7.14227010e-01  2.36554008e+00]\n",
            " [ 4.40560358e+00 -8.72299757e-01]\n",
            " [-1.29190210e-01  3.06043821e+00]\n",
            " [-2.67928693e+00 -2.35973811e-01]\n",
            " [-2.37139823e+00 -5.56610108e-01]\n",
            " [-2.00102501e+00  2.57826708e+00]\n",
            " [-5.99981389e-01  7.25438626e-01]\n",
            " [-3.79706877e+00 -4.84515358e-01]\n",
            " [-1.40737973e+00  2.61062083e+00]\n",
            " [ 7.03336348e-01  1.79435618e+00]\n",
            " [ 2.56922041e+00 -1.50259904e+00]\n",
            " [ 1.08699775e+00  6.41136781e-01]\n",
            " [-2.31068244e+00  3.86526002e+00]\n",
            " [ 4.34603706e+00  1.54676279e+00]\n",
            " [ 2.58665520e+00  1.35901025e+00]\n",
            " [ 2.25083356e-01  1.91633620e+00]\n",
            " [-4.12780759e+00  2.61284656e-01]\n",
            " [ 3.37904304e+00 -3.73435559e-02]\n",
            " [ 1.97637600e+00  5.84200919e-01]\n",
            " [-8.22734764e-01  4.40623905e-01]\n",
            " [-3.14302662e+00  3.77282258e-01]\n",
            " [ 4.43387493e+00  1.11944623e+00]\n",
            " [ 2.29438321e+00 -1.60975933e+00]\n",
            " [ 2.98332531e+00  3.95959380e-02]\n",
            " [ 1.04701974e+00  1.83539700e+00]\n",
            " [ 5.37116530e+00  2.13651062e-01]\n",
            " [ 1.89661397e+00  2.10593024e+00]\n",
            " [ 1.88047795e-01 -8.41466560e-01]\n",
            " [ 1.73192117e+00 -3.94079954e-01]\n",
            " [-3.46958678e+00  9.06911546e-01]\n",
            " [-7.05834096e-01  1.55086234e+00]\n",
            " [ 5.26510691e+00 -1.57033218e+00]\n",
            " [-3.04946280e+00  1.40750429e+00]\n",
            " [-2.76651178e-01  5.33555473e-01]\n",
            " [ 2.23406055e+00 -7.41802521e-01]\n",
            " [ 1.16485920e+00  3.83541517e+00]\n",
            " [ 3.47900558e+00  4.78757314e-01]\n",
            " [ 4.01900755e+00 -1.59365296e+00]\n",
            " [-1.70871367e+00  5.88746957e-01]\n",
            " [ 2.28868332e+00  3.17521999e+00]\n",
            " [ 2.81301081e+00  6.96949250e-01]\n",
            " [-1.04314401e+00  7.53800391e-01]\n",
            " [-1.27939373e+00  1.43978147e+00]\n",
            " [-5.33511332e+00  3.16398083e+00]\n",
            " [-7.65118438e-01  1.56092192e+00]\n",
            " [ 4.44441324e+00  6.81836926e-01]\n",
            " [-2.32617710e+00  2.54800375e-01]\n",
            " [ 3.65138679e+00  1.14757025e-01]\n",
            " [ 9.86324561e-01 -2.70922537e-02]\n",
            " [ 1.72972629e+00  2.18543655e+00]\n",
            " [-3.58543282e+00 -5.68400384e-01]\n",
            " [ 2.59883162e+00  1.31189194e+00]\n",
            " [-1.79902257e+00  1.94796293e+00]\n",
            " [-2.18746055e-01  2.03570710e-01]\n",
            " [-3.39188525e+00  1.96376467e+00]\n",
            " [-2.13110049e+00 -1.54183318e+00]\n",
            " [-2.06525036e+00  1.15542276e+00]\n",
            " [ 2.79504646e+00  1.46452770e+00]\n",
            " [-3.34522437e+00  3.53895133e-01]\n",
            " [ 3.02657606e+00  2.13864689e+00]\n",
            " [ 2.77187797e+00 -1.28533292e+00]\n",
            " [-2.54368310e+00  1.96760254e+00]\n",
            " [ 5.37752153e+00  2.74521202e-01]\n",
            " [-3.38010805e+00  4.23161859e+00]\n",
            " [ 5.20027186e-01  1.92769092e+00]\n",
            " [-2.50434980e+00  6.06728205e-01]\n",
            " [-3.54399395e-01  2.67303033e+00]\n",
            " [-1.06249438e+00  9.34572754e-01]\n",
            " [ 1.35725801e+00  3.12772424e+00]\n",
            " [ 8.26580210e-02  2.66944794e+00]\n",
            " [ 3.30857189e+00 -8.35969749e-01]\n",
            " [-1.74954264e+00  5.23634353e-01]\n",
            " [ 3.97877511e+00  4.91171191e-01]\n",
            " [-1.61357090e+00 -1.20614716e+00]\n",
            " [-6.32431182e+00  8.85684221e-01]\n",
            " [-4.77351319e+00  6.85282352e-01]\n",
            " [ 1.08855096e+00  2.74100850e+00]\n",
            " [ 4.19885494e-01  4.38046989e+00]\n",
            " [ 4.07068366e-02 -5.07002810e-02]\n",
            " [-2.75805676e-03  1.82588515e+00]\n",
            " [ 6.04211851e-01 -1.78417662e+00]\n",
            " [-7.53925990e-01  2.05244704e+00]\n",
            " [-2.23731989e+00  1.52937113e+00]\n",
            " [ 1.08826081e+00  6.15015329e-01]\n",
            " [ 2.02636622e+00  2.89085409e+00]\n",
            " [-1.49474120e-01  2.73895303e+00]\n",
            " [-7.59258935e-01  4.63733352e-01]\n",
            " [-2.55108334e+00  1.77777552e+00]\n",
            " [-1.75105682e+00  2.38440691e+00]\n",
            " [ 3.53377182e+00  1.50873469e+00]\n",
            " [ 7.32755122e-01  1.97451589e+00]\n",
            " [-1.96317696e+00  1.78827746e+00]\n",
            " [ 3.18899647e+00  1.95633685e+00]\n",
            " [ 1.95695326e+00  1.77851941e-01]\n",
            " [ 2.91823790e+00  1.95764488e+00]\n",
            " [ 1.03723631e+00  2.42008244e+00]\n",
            " [-4.32244027e+00 -1.36259519e-01]\n",
            " [-1.85183989e-01  3.87679614e+00]\n",
            " [-4.03641911e+00  1.10963777e+00]\n",
            " [-4.09763487e+00  8.04457287e-01]\n",
            " [-1.53308563e+00 -1.92950399e+00]\n",
            " [-3.28530945e+00 -1.58701533e+00]\n",
            " [ 3.17369465e+00  1.14931271e+00]\n",
            " [ 3.32038549e+00  1.95953135e+00]\n",
            " [-2.37267849e+00 -5.52671298e-02]\n",
            " [-6.04345947e+00  1.14090813e+00]\n",
            " [-3.90338337e-01  4.68084761e+00]\n",
            " [ 2.32014577e+00  1.23037717e+00]] samples and batch size is 50\n"
          ]
        }
      ],
      "source": [
        "num_epochs = 300\n",
        "# batch_size = len(X_train) // 3\n",
        "batch_size = 50\n",
        "\n",
        "print(f\"Training size is {X_train} samples and batch size is {batch_size}\")"
      ]
    },
    {
      "cell_type": "code",
      "execution_count": 103,
      "metadata": {
        "cellView": "form",
        "id": "L62n4wkhK5YZ"
      },
      "outputs": [
        {
          "name": "stdout",
          "output_type": "stream",
          "text": [
            "Accuracy on test set: 0.7833\n"
          ]
        }
      ],
      "source": [
        "#@title This will train the model using softmax\n",
        "\n",
        "import torch\n",
        "import torch.nn as nn\n",
        "import torch.optim as optim\n",
        "import torch.nn.functional as F\n",
        "from torch.utils.data import DataLoader, TensorDataset\n",
        "from sklearn.datasets import make_classification\n",
        "from sklearn.model_selection import train_test_split\n",
        "\n",
        "X_train, X_test, y_train, y_test = train_test_split(X, y, test_size=0.2, random_state=10)\n",
        "\n",
        "# Convert data to PyTorch tensors\n",
        "X_train_tensor = torch.FloatTensor(X_train)\n",
        "y_train_tensor = torch.LongTensor(y_train)\n",
        "X_test_tensor = torch.FloatTensor(X_test)\n",
        "y_test_tensor = torch.LongTensor(y_test)\n",
        "\n",
        "# Define the simple neural network\n",
        "class SimpleNN(nn.Module):\n",
        "    def __init__(self, input_size, output_size):\n",
        "        super(SimpleNN, self).__init__()\n",
        "        self.linear1 = nn.Linear(input_size, output_size)\n",
        "        self.linear1.weight.data.fill_(1)\n",
        "        self.linear1.bias.data.fill_(1)\n",
        "\n",
        "    def forward(self, x):\n",
        "        out = self.linear1(x)\n",
        "        return torch.softmax(out, dim=1)\n",
        "\n",
        "# Set hyperparameters\n",
        "input_size = X_train_tensor.shape[1]\n",
        "output_size = len(torch.unique(y_train_tensor))\n",
        "lr = 0.01\n",
        "\n",
        "train_dataset = TensorDataset(X_train_tensor, y_train_tensor)\n",
        "test_dataset = TensorDataset(X_test_tensor, y_test_tensor)\n",
        "\n",
        "# Create data loaders\n",
        "train_loader = DataLoader(train_dataset, batch_size=batch_size, shuffle=True)\n",
        "test_loader = DataLoader(test_dataset, batch_size=batch_size)\n",
        "\n",
        "# Instantiate the model and define the optimizer\n",
        "model = SimpleNN(input_size, output_size)\n",
        "optimizer = optim.SGD(model.parameters(), lr=learning_rate)\n",
        "\n",
        "# Define the loss function\n",
        "criterion = nn.CrossEntropyLoss()\n",
        "\n",
        "# Training loop\n",
        "for epoch in range(num_epochs):\n",
        "    model.train()  # Set the model to training mode\n",
        "\n",
        "    for inputs, targets in train_loader:\n",
        "        optimizer.zero_grad()  # Clear gradients\n",
        "\n",
        "        # Forward pass\n",
        "        outputs = model(inputs)\n",
        "        loss = criterion(outputs, targets)\n",
        "\n",
        "        # Backward pass and optimization\n",
        "        loss.backward()\n",
        "        optimizer.step()\n",
        "\n",
        "    #if (epoch + 1) % 10 == 0:\n",
        "    #    print(f'Epoch [{epoch + 1}/{num_epochs}], Loss: {loss.item():.4f}')\n",
        "\n",
        "# Evaluate the model on test data\n",
        "model.eval()  # Set the model to evaluation mode\n",
        "with torch.no_grad():\n",
        "    correct = 0\n",
        "    total = 0\n",
        "    for inputs, targets in test_loader:\n",
        "        outputs = model(inputs)\n",
        "        _, predicted = torch.max(outputs, 1)\n",
        "        total += targets.size(0)\n",
        "        correct += (predicted == targets).sum().item()\n",
        "\n",
        "    accuracy = correct / total\n",
        "    print(f'Accuracy on test set: {accuracy:.4f}')"
      ]
    },
    {
      "cell_type": "code",
      "execution_count": 104,
      "metadata": {
        "cellView": "form",
        "id": "pJ43MKK4K77v"
      },
      "outputs": [
        {
          "data": {
            "text/plain": [
              "array([[94,  4,  2],\n",
              "       [15, 73, 12],\n",
              "       [ 0, 10, 90]], dtype=int64)"
            ]
          },
          "execution_count": 104,
          "metadata": {},
          "output_type": "execute_result"
        },
        {
          "data": {
            "image/png": "[encoded data removed]",
            "text/plain": [
              "<Figure size 640x480 with 1 Axes>"
            ]
          },
          "metadata": {},
          "output_type": "display_data"
        }
      ],
      "source": [
        "#@title This will plot the boundaries of the model\n",
        "\n",
        "def predict(data):\n",
        "    outputs = model(torch.tensor(data, dtype=torch.float32))\n",
        "    _, predicted = torch.max(outputs, 1)\n",
        "    return predicted\n",
        "\n",
        "# create a mesh to plot in\n",
        "h = .02  # step size in the mesh\n",
        "x_min, x_max = min(X[:,0])-3,max(X[:,0])+3\n",
        "y_min, y_max = min(X[:,1])-3,max(X[:,1])+3\n",
        "xx, yy = np.meshgrid(np.arange(x_min, x_max, h),\n",
        "                     np.arange(y_min, y_max, h))\n",
        "mesh_input = np.c_[xx.ravel(), yy.ravel()]\n",
        "\n",
        "Z = predict(mesh_input)\n",
        "Z = Z.reshape(xx.shape)\n",
        "plt.contourf(xx, yy, Z, cmap=plt.cm.coolwarm, alpha=0.8)\n",
        "# Plot also the training points\n",
        "plt.scatter(X[:, 0], X[:, 1], c=y, cmap=plt.cm.coolwarm)\n",
        "\n",
        "metrics.confusion_matrix(y, predict(X))"
      ]
    },
    {
      "cell_type": "markdown",
      "metadata": {
        "id": "rs2flQjZL-D7"
      },
      "source": [
        "## Question 2 - Linear Regression\n",
        "You are requested by the Charles Darvin himself to predict the age of abalone from physical measurements.\n",
        "The dataset consists of 7 continious features that he has collected for you."
      ]
    },
    {
      "cell_type": "code",
      "execution_count": 27,
      "metadata": {
        "id": "Oi-_7SJiMAfr"
      },
      "outputs": [],
      "source": [
        "# import libraries\n",
        "\n",
        "import numpy as np\n",
        "import pandas as pd\n",
        "import matplotlib.pyplot as plt\n",
        "from tqdm import tqdm"
      ]
    },
    {
      "cell_type": "markdown",
      "metadata": {
        "id": "4zjczKr4MNHv"
      },
      "source": [
        "We define the following:\n",
        "-\tX, 2d matrix from size n x d which represents the training samples.\n",
        "-\ty, array from size n which represents the target value for the corresponding sample.\n",
        "\n",
        "Implement the function Linreg_sol(X,y) which outputs the closed form solution for linear regression on X,y. <br/>\n",
        "Don't use pinv"
      ]
    },
    {
      "cell_type": "code",
      "execution_count": 28,
      "metadata": {
        "id": "RA8-1RrnMOpw"
      },
      "outputs": [],
      "source": [
        "\n",
        "def Linreg_sol(X, y):\n",
        "    # Step 1: Add a column of ones to X for the intercept term\n",
        "    X_with_intercept = np.hstack([np.ones((X.shape[0], 1)), X])\n",
        "    \n",
        "    # Step 2: Compute the transpose of X\n",
        "    X_transpose = X_with_intercept.T\n",
        "    \n",
        "    # Step 3: Compute the product of X_transpose and X\n",
        "    X_transpose_X = X_transpose.dot(X_with_intercept)\n",
        "    \n",
        "    # Step 4: Compute the inverse of X_transpose_X\n",
        "    inverse_X_transpose_X = np.linalg.inv(X_transpose_X)\n",
        "    \n",
        "    # Step 5: Compute the product of X_transpose and y\n",
        "    X_transpose_y = X_transpose.dot(y)\n",
        "    \n",
        "    # Step 6: Compute the product of the inverse of X_transpose_X and X_transpose_y\n",
        "    coeff = inverse_X_transpose_X.dot(X_transpose_y)\n",
        "    \n",
        "    # Step 7: Return theta\n",
        "    return coeff"
      ]
    },
    {
      "cell_type": "markdown",
      "metadata": {
        "id": "J3qUuz18MR3A"
      },
      "source": [
        "Load data from https://sharon.srworkspace.com/ml/datasets/hw3/abalone.csv"
      ]
    },
    {
      "cell_type": "code",
      "execution_count": 29,
      "metadata": {
        "id": "FBnctOlsMVCT"
      },
      "outputs": [
        {
          "name": "stdout",
          "output_type": "stream",
          "text": [
            "   0.455  0.365  0.095   0.514  0.2245   0.101   0.15  15\n",
            "0  0.350  0.265  0.090  0.2255  0.0995  0.0485  0.070   7\n",
            "1  0.530  0.420  0.135  0.6770  0.2565  0.1415  0.210   9\n",
            "2  0.440  0.365  0.125  0.5160  0.2155  0.1140  0.155  10\n",
            "3  0.330  0.255  0.080  0.2050  0.0895  0.0395  0.055   7\n",
            "4  0.425  0.300  0.095  0.3515  0.1410  0.0775  0.120   8\n"
          ]
        }
      ],
      "source": [
        "# URL of the dataset\n",
        "url = \"https://sharon.srworkspace.com/ml/datasets/hw3/abalone.csv\"\n",
        "\n",
        "# Load the dataset into a pandas DataFrame\n",
        "df = pd.read_csv(url)\n",
        "\n",
        "# Display the first few rows of the DataFrame to verify it's loaded correctly\n",
        "print(df.head())"
      ]
    },
    {
      "cell_type": "markdown",
      "metadata": {
        "id": "11RHbDzUM1bd"
      },
      "source": [
        "Your tasks are:\n",
        "- Convert to numpy\n",
        "- Preproccess the data\n",
        "- Find the weight vector and the bias"
      ]
    },
    {
      "cell_type": "code",
      "execution_count": 30,
      "metadata": {
        "id": "R4mxOKwiNOY6"
      },
      "outputs": [
        {
          "name": "stdout",
          "output_type": "stream",
          "text": [
            "The linear line is -0.18x1+1.32x2+0.50x3+4.53x4+-4.49x5+-1.08x6+1.20x7+9.93=0\n"
          ]
        }
      ],
      "source": [
        "from sklearn.preprocessing import StandardScaler\n",
        "\n",
        "# Convert to numpy\n",
        "data = df.to_numpy()\n",
        "\n",
        "X = data[:, :-1]  # All rows, all columns except the last\n",
        "y = data[:, -1]   # All rows, last column\n",
        "\n",
        "# Scale the features\n",
        "scaler = StandardScaler()\n",
        "X_scaled = scaler.fit_transform(X)\n",
        "\n",
        "# Proceed with linear regression using the scaled features\n",
        "w = Linreg_sol(X_scaled, y)\n",
        "\n",
        "# Suppose w is the solution\n",
        "print(f'The linear line is {w[1]:.2f}x1+{w[2]:.2f}x2+{w[3]:.2f}x3+{w[4]:.2f}x4+{w[5]:.2f}x5+{w[6]:.2f}x6+{w[7]:.2f}x7+{w[0]:.2f}=0')"
      ]
    },
    {
      "cell_type": "markdown",
      "metadata": {
        "id": "yaSOp25BOeHr"
      },
      "source": [
        "Now, implement 'Linreg_sol_via_GD' which implement gradient descent on the linear regression problem. The stopping criterion should be based only by the iterations number recived as parameter"
      ]
    },
    {
      "cell_type": "code",
      "execution_count": 46,
      "metadata": {
        "id": "ZYAKYLXkOqT_"
      },
      "outputs": [],
      "source": [
        "def Linreg_sol_via_GD(X, y, lr, iter_number):\n",
        "    w = np.ones(X.shape[1])\n",
        "    m, n = X.shape  # m is the number of examples, n is the number of features\n",
        "\n",
        "    for _ in range(iter_number):\n",
        "        gradient = (1/m) * X.T.dot(X.dot(w) - y)  # Compute the gradient\n",
        "        w = w - lr * gradient  # Update w by subtracting the product of lr and gradient\n",
        "\n",
        "    return w"
      ]
    },
    {
      "cell_type": "markdown",
      "metadata": {
        "id": "oHM4VX52OyYN"
      },
      "source": [
        "The following code measures the number of iterations as a function of the error gap between the returned weights and the correct solution. <br/>\n",
        "Conclude the complexity formula required - How many iterations do we need as a function of the error, $\\varepsilon$? Make sure to include the $𝚶$ notation in your answer. <br/>\n",
        "Note: This error is sometimes called 'gap'. <br/>\n",
        "<font color='red'>Write your answer here and explain it<br><br>\n",
        "Before we conclude the formula we can see that the gap decrease as the number of iterations increases, and thats due to the gradient descent an optimization algorithm that mimnimize the error function iteratively.<br><br>\n",
        "Now to To find the number of iterations k needed to to achieve an error less than a spefiefed ε we define the inequality:<br>\n",
        "ε0⋅βk≤ε we extract k as follows:<br>\n",
        "\n",
        "βk≤ε/ε0 <br>\n",
        "k⋅log(β)≤log(ε/ε0)<br>\n",
        "k≥log(ε/ε0)/log(1/β)   and thats due to log(β)<0 (β<1) <br>\n",
        "<br>so The number of iterations k needed to achieve an error less than ε is proportional to the logarithm of the inverse of ε:<br>\n",
        "k=O(log(1/ε))\n",
        "\n",
        "</font>"
      ]
    },
    {
      "cell_type": "code",
      "execution_count": 49,
      "metadata": {
        "id": "5q_dPBRTOzds"
      },
      "outputs": [
        {
          "name": "stderr",
          "output_type": "stream",
          "text": [
            "100%|██████████| 90/90 [00:44<00:00,  2.00it/s]\n"
          ]
        },
        {
          "data": {
            "image/png": "[encoded data removed]",
            "text/plain": [
              "<Figure size 640x480 with 1 Axes>"
            ]
          },
          "metadata": {},
          "output_type": "display_data"
        }
      ],
      "source": [
        "w_real = w\n",
        "X_scaled = np.hstack([np.ones((X.shape[0], 1)), X])\n",
        "\n",
        "iters = np.arange(1000, 10_000, 100)\n",
        "gaps = []\n",
        "\n",
        "for iter in tqdm(iters):\n",
        "    w = Linreg_sol_via_GD(X_scaled, y, lr=0.1, iter_number=iter)\n",
        "    gaps.append(np.linalg.norm(w_real - w))\n",
        "\n",
        "plt.plot(gaps, iters)\n",
        "plt.ylabel(\"iterations_number\")\n",
        "plt.xlabel(\"error gap\")\n",
        "plt.show()"
      ]
    },
    {
      "cell_type": "markdown",
      "metadata": {
        "id": "8t42UEXrQYJI"
      },
      "source": [
        "In the second part of the task, we will see the features dependence and try to solve it."
      ]
    },
    {
      "cell_type": "markdown",
      "metadata": {
        "id": "mibS-tKkNwC0"
      },
      "source": [
        "Calculate the the value of $\\text{Cov}(X)=\\frac{1}{n-1}(X-\\mu)^\\top (X-\\mu)$? <br/>\n",
        "- What can you imply from this about the features?\n",
        "- Can we imply something on $X^\\top X$? Must its det be 0?\n",
        "\n",
        "Note: In your calculations, make sure the bias is not included as feature. <br/>\n",
        "<font color='red'>Write your answers here and explain it</font>"
      ]
    },
    {
      "cell_type": "code",
      "execution_count": 33,
      "metadata": {
        "id": "zjeP8fMxOUyP"
      },
      "outputs": [],
      "source": [
        "# Implement here"
      ]
    },
    {
      "cell_type": "markdown",
      "metadata": {
        "id": "2QAw7kjLd6Dz"
      },
      "source": [
        "Implement the solution to ridge regression using GD."
      ]
    },
    {
      "cell_type": "code",
      "execution_count": 50,
      "metadata": {
        "id": "2JrsNgCQeGzC"
      },
      "outputs": [],
      "source": [
        "LEARNING_RATE = 0.01\n",
        "ITERATIONS = 1000\n",
        "\n",
        "def Linreg_sol_Ridge(X, y, lamda):\n",
        "    m, n = X.shape\n",
        "    # Initialize weights with zeros\n",
        "    theta = np.zeros(n+1)\n",
        "    # Add a column of ones to X for the bias term\n",
        "    X_bias = np.hstack([np.ones((m, 1)), X])\n",
        "    \n",
        "    for _ in range(ITERATIONS):\n",
        "        # Calculate predictions\n",
        "        predictions = np.dot(X_bias, theta)\n",
        "        # Calculate error\n",
        "        error = predictions - y\n",
        "        # Calculate gradient\n",
        "        gradient = np.dot(X_bias.T, error) / m\n",
        "        # Regularize gradient for j >= 1\n",
        "        gradient[1:] += (lamda / m) * theta[1:]\n",
        "        # Update weights\n",
        "        theta -= LEARNING_RATE * gradient\n",
        "    \n",
        "    return theta\n"
      ]
    },
    {
      "cell_type": "markdown",
      "metadata": {
        "id": "xQ6qmbqWkq8w"
      },
      "source": [
        "The following code measures the mse error as function of the regularization hyperparameter lamda. <br/>Explain the origin to the mse' behaviour as function of lamda in this problem. <br/>\n",
        "<font color='red'>Write your answer here and explain it</font>"
      ]
    },
    {
      "cell_type": "code",
      "execution_count": 53,
      "metadata": {
        "id": "9aJpgYNIkvYt"
      },
      "outputs": [
        {
          "data": {
            "image/png": "[encoded data removed]",
            "text/plain": [
              "<Figure size 640x480 with 1 Axes>"
            ]
          },
          "metadata": {},
          "output_type": "display_data"
        }
      ],
      "source": [
        "mses = []\n",
        "lamdas = np.arange(0.1, 10.1, 0.1)\n",
        "X_for_reg = X_scaled\n",
        "X_for_reg_with_bias = np.hstack([np.ones((X_for_reg.shape[0], 1)), X_for_reg])\n",
        "\n",
        "for lamda in lamdas:\n",
        "\n",
        "    w = Linreg_sol_Ridge(X_for_reg, y, lamda)\n",
        "\n",
        "    preds = np.dot(X_for_reg_with_bias, w)\n",
        "    mses.append(np.mean((preds - y) ** 2))\n",
        "\n",
        "plt.plot(lamdas, mses)\n",
        "plt.ylabel(\"error\")\n",
        "plt.xlabel(\"lamda\")\n",
        "plt.show()"
      ]
    },
    {
      "cell_type": "markdown",
      "metadata": {
        "id": "loHiZy0lVzT0"
      },
      "source": [
        "## Question 3 - Decision tree"
      ]
    },
    {
      "cell_type": "markdown",
      "metadata": {
        "id": "34peWE4XiSmH"
      },
      "source": [
        "Recall the wine dataset from hw1, where we classified wine types based on their physical and chemical properties. You will do it, but this time with decision trees!"
      ]
    },
    {
      "cell_type": "code",
      "execution_count": 10,
      "metadata": {
        "id": "w8LUgNO8V1Ut"
      },
      "outputs": [],
      "source": [
        "# Import libraries\n",
        "\n",
        "import numpy as np\n",
        "import pandas as pd"
      ]
    },
    {
      "cell_type": "code",
      "execution_count": 11,
      "metadata": {
        "id": "-PZdW625WCTa"
      },
      "outputs": [
        {
          "data": {
            "text/html": [
              "<div>\n",
              "<style scoped>\n",
              "    .dataframe tbody tr th:only-of-type {\n",
              "        vertical-align: middle;\n",
              "    }\n",
              "\n",
              "    .dataframe tbody tr th {\n",
              "        vertical-align: top;\n",
              "    }\n",
              "\n",
              "    .dataframe thead th {\n",
              "        text-align: right;\n",
              "    }\n",
              "</style>\n",
              "<table border=\"1\" class=\"dataframe\">\n",
              "  <thead>\n",
              "    <tr style=\"text-align: right;\">\n",
              "      <th></th>\n",
              "      <th>Alcohol</th>\n",
              "      <th>Malic acid</th>\n",
              "      <th>Ash</th>\n",
              "      <th>Alcalinity of ash</th>\n",
              "      <th>Magnesium</th>\n",
              "      <th>Total phenols</th>\n",
              "      <th>Flavanoids</th>\n",
              "      <th>Nonflavanoid phenols</th>\n",
              "      <th>Proanthocyanins</th>\n",
              "      <th>Color intensity</th>\n",
              "      <th>Hue</th>\n",
              "      <th>OD280/OD315 of diluted wines</th>\n",
              "      <th>Proline</th>\n",
              "      <th>Class</th>\n",
              "    </tr>\n",
              "  </thead>\n",
              "  <tbody>\n",
              "    <tr>\n",
              "      <th>0</th>\n",
              "      <td>14.23</td>\n",
              "      <td>1.71</td>\n",
              "      <td>2.43</td>\n",
              "      <td>15.6</td>\n",
              "      <td>127</td>\n",
              "      <td>2.80</td>\n",
              "      <td>3.06</td>\n",
              "      <td>0.28</td>\n",
              "      <td>2.29</td>\n",
              "      <td>5.64</td>\n",
              "      <td>1.04</td>\n",
              "      <td>3.92</td>\n",
              "      <td>1065</td>\n",
              "      <td>1</td>\n",
              "    </tr>\n",
              "    <tr>\n",
              "      <th>1</th>\n",
              "      <td>13.20</td>\n",
              "      <td>1.78</td>\n",
              "      <td>2.14</td>\n",
              "      <td>11.2</td>\n",
              "      <td>100</td>\n",
              "      <td>2.65</td>\n",
              "      <td>2.76</td>\n",
              "      <td>0.26</td>\n",
              "      <td>1.28</td>\n",
              "      <td>4.38</td>\n",
              "      <td>1.05</td>\n",
              "      <td>3.40</td>\n",
              "      <td>1050</td>\n",
              "      <td>1</td>\n",
              "    </tr>\n",
              "    <tr>\n",
              "      <th>2</th>\n",
              "      <td>13.16</td>\n",
              "      <td>2.36</td>\n",
              "      <td>2.67</td>\n",
              "      <td>18.6</td>\n",
              "      <td>101</td>\n",
              "      <td>2.80</td>\n",
              "      <td>3.24</td>\n",
              "      <td>0.30</td>\n",
              "      <td>2.81</td>\n",
              "      <td>5.68</td>\n",
              "      <td>1.03</td>\n",
              "      <td>3.17</td>\n",
              "      <td>1185</td>\n",
              "      <td>1</td>\n",
              "    </tr>\n",
              "  </tbody>\n",
              "</table>\n",
              "</div>"
            ],
            "text/plain": [
              "   Alcohol  Malic acid   Ash  Alcalinity of ash  Magnesium  Total phenols  \\\n",
              "0    14.23        1.71  2.43               15.6        127           2.80   \n",
              "1    13.20        1.78  2.14               11.2        100           2.65   \n",
              "2    13.16        2.36  2.67               18.6        101           2.80   \n",
              "\n",
              "   Flavanoids  Nonflavanoid phenols  Proanthocyanins  Color intensity   Hue  \\\n",
              "0        3.06                  0.28             2.29             5.64  1.04   \n",
              "1        2.76                  0.26             1.28             4.38  1.05   \n",
              "2        3.24                  0.30             2.81             5.68  1.03   \n",
              "\n",
              "   OD280/OD315 of diluted wines  Proline  Class  \n",
              "0                          3.92     1065      1  \n",
              "1                          3.40     1050      1  \n",
              "2                          3.17     1185      1  "
            ]
          },
          "execution_count": 11,
          "metadata": {},
          "output_type": "execute_result"
        }
      ],
      "source": [
        "# Load the data, print the first rows\n",
        "\n",
        "data = pd.read_csv('https://sharon.srworkspace.com/ml/datasets/hw1/wine.data.csv')\n",
        "data.head(3)"
      ]
    },
    {
      "cell_type": "markdown",
      "metadata": {
        "id": "aISL11PniuiG"
      },
      "source": [
        "Complete this missing implementation of the following functions:\n",
        "- ```calculate_entropy(self, data)``` – given data, compute the entropy, where the distribution is over its labels (target class).\n",
        "- ```calculate_information_gain(self, data, feature)``` – given data and specific feature, compute the information gain given by selecting that feature.\n",
        "\n",
        "Algorithm: The data is continuous, so create 10 thresholds between the min and max values of that feature. For each threshold, split to left tree and right tree and calculate the gain. Choose the threshold which gives the highest gain, along with the gain itself (to later compare between features) <br/>\n",
        "\n",
        "Tip: To split the tree (represented by data df), use filter_data.\n",
        "For example, when calculating the gain of 'skew' with threshold 0.5, you can create the left tree by use ```filter_data(data, 'skew', '0.5', left=True)``` to obtain only those samples."
      ]
    },
    {
      "cell_type": "code",
      "execution_count": 31,
      "metadata": {
        "id": "-IqUorHMV-tr"
      },
      "outputs": [],
      "source": [
        "# Define the ID3 decision tree class\n",
        "class DecisionTree:\n",
        "\tdef __init__(self, max_depth=np.inf):\n",
        "\t\tself.tree = {}\n",
        "\t\tself.max_depth = max_depth\n",
        "\n",
        "  \n",
        "\tdef calculate_entropy(self, data):\n",
        "\t\tlabels = data.iloc[:, -1]  #extract labels\n",
        "\t\tlabel_counts = labels.value_counts()\t#count the number of occurnces in each unique label \n",
        "\t\ttotal_labels = len(labels)\t\t\t\t# calculate the probabilty \n",
        "\t\tprobabilities = label_counts / total_labels\n",
        "\t\tentropy = -sum(probabilities * np.log2(probabilities))\t# calculate the entropy according to the formula \n",
        "\t\treturn entropy\n",
        "\n",
        "\tdef calculate_information_gain(self, data, feature):\n",
        "\t\ttotal_entropy = self.calculate_entropy(data)\t#calculate the max entropy \n",
        "\t\tfeature_values = data[feature]\t#extract feature values\n",
        "\t\tmin_value, max_value = feature_values.min(), feature_values.max()\n",
        "\t\tthresholds = np.linspace(min_value, max_value, 11)[1:-1]  # Generate 10 thresholds, excluding the min and max values\n",
        "\n",
        "\t\tbest_threshold = None\n",
        "\t\tbest_gain = 0\n",
        "\n",
        "\t\tfor threshold in thresholds:\n",
        "\t\t\t# Split the data to right and left according to the thresholds \n",
        "\t\t\tleft_data = self.filter_data(data, feature, threshold, left=True)\n",
        "\t\t\tright_data = self.filter_data(data, feature, threshold, left=False)\n",
        "\n",
        "\t\t\t# Calculate the weighted average of the entropy\n",
        "\t\t\tleft_entropy = self.calculate_entropy(left_data)\n",
        "\t\t\tright_entropy = self.calculate_entropy(right_data)\n",
        "\t\t\ttotal_size = len(data)\n",
        "\t\t\tweighted_entropy = (len(left_data) / total_size) * left_entropy + (len(right_data) / total_size) * right_entropy\n",
        "\n",
        "\t\t\t# Calculate information gain according to the formula\n",
        "\t\t\tinformation_gain = total_entropy - weighted_entropy\n",
        "\n",
        "\t\t\t# Update the best threshold if this threshold gives a better gain\n",
        "\t\t\tif information_gain > best_gain:\n",
        "\t\t\t\tbest_gain = information_gain\n",
        "\t\t\t\tbest_threshold = threshold\n",
        "\n",
        "\t\treturn best_gain, best_threshold\n",
        "\n",
        "\tdef filter_data(self, data, feature, value, left=True):\n",
        "\t\tif left:\n",
        "\t\t\treturn data[data[feature] <= value].drop(feature, axis=1)\n",
        "\t\telse:\n",
        "\t\t\treturn data[data[feature] > value].drop(feature, axis=1)\n",
        "\n",
        "\tdef create_tree(self, data, depth=0):\n",
        "\t\tif depth == self.max_depth:\n",
        "\t\t\tlabels = data.iloc[:, -1]\n",
        "\t\t\tunique_labels, label_counts = np.unique(labels, return_counts=True)\n",
        "\t\t\tmajority_label = unique_labels[label_counts.argmax()]\n",
        "\t\t\treturn majority_label\n",
        "\n",
        "     \n",
        "\t\t# Recursive function to create the decision tree\n",
        "\t\tlabels = data.iloc[:, -1]\n",
        "\n",
        "\t\t# Base case: if all labels are the same, return the label\n",
        "\t\tif len(np.unique(labels)) == 1:\n",
        "\t\t\treturn list(labels)[0]\n",
        "\n",
        "\t\tfeatures = data.columns.tolist()[:-1]\n",
        "\t\t# Base case: if there are no features left to split on, return the majority label\n",
        "\t\tif len(features) == 0:\n",
        "\t\t\tunique_labels, label_counts = np.unique(labels, return_counts=True)\n",
        "\t\t\tmajority_label = unique_labels[label_counts.argmax()]\n",
        "\t\t\treturn majority_label\n",
        "\n",
        "\t\tselected_feature = None\n",
        "\t\tbest_gain = 0\n",
        "\t\tbest_treshold = None\n",
        "\n",
        "\t\tfor feature in features:\n",
        "\t\t\tgain, treshold = self.calculate_information_gain(data, feature)\n",
        "\t\t\tif gain >= best_gain:\n",
        "\t\t\t\tselected_feature = feature\n",
        "\t\t\t\tbest_treshold = treshold\n",
        "\t\t\t\tbest_gain = gain\n",
        "\n",
        "\t\t# Create the tree node\n",
        "\t\ttree_node = {}\n",
        "\t\ttree_node[(selected_feature, f\"<={best_treshold}\")] = self.create_tree(self.filter_data(data, selected_feature, best_treshold, left=True), depth+1)\n",
        "\t\ttree_node[(selected_feature, f\">{best_treshold}\")] = self.create_tree(self.filter_data(data, selected_feature, best_treshold, left=False), depth+1)\n",
        "\n",
        "\t\t# check if can unite them.\n",
        "\t\tif not isinstance(tree_node[(selected_feature, f\"<={best_treshold}\")], dict) and \\\n",
        "\t\t\t\tnot isinstance(tree_node[(selected_feature, f\">{best_treshold}\")], dict):\n",
        "\t\t\tif tree_node[(selected_feature, f\"<={best_treshold}\")] == tree_node[(selected_feature, f\">{best_treshold}\")]:\n",
        "\t\t\t\treturn tree_node[(selected_feature, f\"<={best_treshold}\")]\n",
        "\n",
        "\t\treturn tree_node\n",
        "\n",
        "\tdef fit(self, data):\n",
        "\t\tself.tree = self.create_tree(data)\n",
        "\n",
        "\tdef predict(self, X):\n",
        "\t\tX = [row[1] for row in X.iterrows()]\n",
        "\n",
        "\t\t# Predict the labels for new data points\n",
        "\t\tpredictions = []\n",
        "\n",
        "\t\tfor row in X:\n",
        "\t\t\tcurrent_node = self.tree\n",
        "\t\t\twhile isinstance(current_node, dict):\n",
        "\t\t\t\tsplit_condition = next(iter(current_node))\n",
        "\t\t\t\tfeature, value = split_condition\n",
        "\t\t\t\ttreshold = float(value[2:])\n",
        "\t\t\t\tif row[feature] <= treshold:\n",
        "\t\t\t\t\tcurrent_node = current_node[feature, f\"<={treshold}\"]\n",
        "\t\t\t\telse:\n",
        "\t\t\t\t\tcurrent_node = current_node[feature, f\">{treshold}\"]\n",
        "\t\t\tpredictions.append(current_node)\n",
        "\n",
        "\t\treturn predictions\n",
        "\n",
        "\tdef _plot(self, tree, indent):\n",
        "\t\tdepth = 1\n",
        "\t\tfor key, value in tree.items():\n",
        "\t\t\tif isinstance(value, dict):\n",
        "\t\t\t\tprint(\" \" * indent + str(key) + \":\")\n",
        "\t\t\t\tdepth = max(depth, 1 + self._plot(value, indent + 2))\n",
        "\t\t\telse:\n",
        "\t\t\t\tprint(\" \" * indent + str(key) + \": \" + str(value))\n",
        "\t\treturn depth\n",
        "\n",
        "\tdef plot(self):\n",
        "\t\tdepth = self._plot(self.tree, 0)\n",
        "\t\tprint(f'depth is {depth}')\n"
      ]
    },
    {
      "cell_type": "markdown",
      "metadata": {
        "id": "IdezpzK9WHwv"
      },
      "source": [
        "You are ready - define DecisionTree, fit it on the entire data and plot the tree. <br/>\n",
        "The depth of the tree should be 5"
      ]
    },
    {
      "cell_type": "code",
      "execution_count": 32,
      "metadata": {
        "id": "HgSriNidWHW9"
      },
      "outputs": [
        {
          "name": "stdout",
          "output_type": "stream",
          "text": [
            "('Flavanoids', '<=1.7620000000000002'):\n",
            "  ('Color intensity', '<=3.6240000000000006'): 2\n",
            "  ('Color intensity', '>3.6240000000000006'):\n",
            "    ('Alcalinity of ash', '<=17.1'): 2\n",
            "    ('Alcalinity of ash', '>17.1'):\n",
            "      ('OD280/OD315 of diluted wines', '<=1.9900000000000002'): 3\n",
            "      ('OD280/OD315 of diluted wines', '>1.9900000000000002'):\n",
            "        ('Proanthocyanins', '<=1.1920000000000002'): 3\n",
            "        ('Proanthocyanins', '>1.1920000000000002'): 2\n",
            "('Flavanoids', '>1.7620000000000002'):\n",
            "  ('Proline', '<=698.5999999999999'):\n",
            "    ('Alcalinity of ash', '<=17.7'):\n",
            "      ('Hue', '<=0.861'): 1\n",
            "      ('Hue', '>0.861'): 2\n",
            "    ('Alcalinity of ash', '>17.7'): 2\n",
            "  ('Proline', '>698.5999999999999'):\n",
            "    ('Alcohol', '<=12.821000000000002'): 2\n",
            "    ('Alcohol', '>12.821000000000002'):\n",
            "      ('Magnesium', '<=134.0'): 1\n",
            "      ('Magnesium', '>134.0'): 2\n",
            "depth is 5\n"
          ]
        }
      ],
      "source": [
        "# Initialize the DecisionTree\n",
        "decision_tree = DecisionTree()\n",
        "\n",
        "# Fit the decision tree on the entire dataset\n",
        "decision_tree.fit(data)\n",
        "\n",
        "# Plot the tree\n",
        "decision_tree.plot()"
      ]
    },
    {
      "cell_type": "markdown",
      "metadata": {
        "id": "RL_ISCptkHCf"
      },
      "source": [
        "The decision tree is pretty large (depth is 5). To solve this, lets modify our DecisionTree: <br/>\n",
        "```\n",
        "def __init__(self, max_depth=np.inf):\n",
        "        self.tree = {}\n",
        "        self.max_depth = max_depth\n",
        "```\n",
        "\n",
        "Modify the rest of the code to stop growing after max_depth. <br/>\n",
        "Hint: When reached to max_depth, should we continue splitting? Which category will be best to be selected?\n"
      ]
    },
    {
      "cell_type": "markdown",
      "metadata": {
        "id": "jlbxf36OWuEo"
      },
      "source": [
        "Using 10 thresholds, compare using max_depth=2 and max_depth=4. Based on the results, which depth is better for our problem in term of ML? <br/>\n",
        "<font color='red'>Write your answer here and explain it<br>\n",
        "For Depth=2 :<br>\n",
        "Training accuracy is 0.9084507042253521<br>\n",
        "Test accuracy is 0.8888888888888888<br>\n",
        "For Depth=4:<br>\n",
        "Training accuracy is 0.9929577464788732<br>\n",
        "Test accuracy is 0.8611111111111112<br><br>\n",
        "We can see that when the depth is 2 the training accuracy is less than when depth is 4, and that due to when depth is 4 the tree is more prone to classify the points which will lead to better training accuarcy, but due to that the classifaction may overfit the data which may result to lower the test accuarcy, and that what happened as we can see that the test accuarcy has droped from 0.88888 to 0.86111.\n",
        "\n",
        "\n",
        "\n",
        " </font>"
      ]
    },
    {
      "cell_type": "code",
      "execution_count": 35,
      "metadata": {
        "id": "yCV8Ia24WwBB"
      },
      "outputs": [
        {
          "name": "stdout",
          "output_type": "stream",
          "text": [
            "------------ max_depth=2 ------------\n",
            "Training accuracy is 0.9084507042253521\n",
            "Test accuracy is 0.8888888888888888\n",
            "\n",
            "------------ max_depth=4 ------------\n",
            "Training accuracy is 0.9929577464788732\n",
            "Test accuracy is 0.8611111111111112\n",
            "\n"
          ]
        }
      ],
      "source": [
        "from sklearn.model_selection import train_test_split\n",
        "from sklearn.metrics import accuracy_score\n",
        "train, test = train_test_split(data, test_size=0.2, random_state=42)\n",
        "\n",
        "for depth in [2, 4]:\n",
        "    print(f\"------------ max_depth={depth} ------------\")\n",
        "    # Initialize and fit the decision tree\n",
        "    tree = DecisionTree(max_depth=depth)\n",
        "    tree.fit(train)\n",
        "    # Predict on training and test sets\n",
        "    train_predictions = tree.predict(train.drop(train.columns[-1], axis=1))\n",
        "    test_predictions = tree.predict(test.drop(test.columns[-1], axis=1))\n",
        "    \n",
        "    # Calculate accuracies\n",
        "    train_accuracy = accuracy_score(train.iloc[:, -1], train_predictions)\n",
        "    test_accuracy = accuracy_score(test.iloc[:, -1], test_predictions)\n",
        "    \n",
        "    # Print accuracies\n",
        "    print(f'Training accuracy is {train_accuracy}')\n",
        "    print(f'Test accuracy is {test_accuracy}')\n",
        "    print()"
      ]
    },
    {
      "cell_type": "markdown",
      "metadata": {
        "id": "E14fEnmQwi__"
      },
      "source": [
        "Now, use KFold (as seen in tutorials) for a cross validation search to the best depth for the tree."
      ]
    },
    {
      "cell_type": "code",
      "execution_count": 45,
      "metadata": {
        "id": "SjBmMq6Dwuwt"
      },
      "outputs": [
        {
          "name": "stderr",
          "output_type": "stream",
          "text": [
            "  0%|          | 0/5 [00:00<?, ?it/s]\n"
          ]
        },
        {
          "ename": "TypeError",
          "evalue": "DecisionTree.fit() takes 2 positional arguments but 3 were given",
          "output_type": "error",
          "traceback": [
            "\u001b[1;31m---------------------------------------------------------------------------\u001b[0m",
            "\u001b[1;31mTypeError\u001b[0m                                 Traceback (most recent call last)",
            "Cell \u001b[1;32mIn[45], line 26\u001b[0m\n\u001b[0;32m     23\u001b[0m model \u001b[38;5;241m=\u001b[39m DecisionTree(max_depth\u001b[38;5;241m=\u001b[39mdepth)\n\u001b[0;32m     25\u001b[0m \u001b[38;5;66;03m# Fit the model\u001b[39;00m\n\u001b[1;32m---> 26\u001b[0m \u001b[43mmodel\u001b[49m\u001b[38;5;241;43m.\u001b[39;49m\u001b[43mfit\u001b[49m\u001b[43m(\u001b[49m\u001b[43mX_train\u001b[49m\u001b[43m,\u001b[49m\u001b[43m \u001b[49m\u001b[43my_train\u001b[49m\u001b[43m)\u001b[49m\n\u001b[0;32m     28\u001b[0m \u001b[38;5;66;03m# Predict on the test set\u001b[39;00m\n\u001b[0;32m     29\u001b[0m predictions \u001b[38;5;241m=\u001b[39m model\u001b[38;5;241m.\u001b[39mpredict(X_test)\n",
            "\u001b[1;31mTypeError\u001b[0m: DecisionTree.fit() takes 2 positional arguments but 3 were given"
          ]
        }
      ],
      "source": [
        "from sklearn.model_selection import KFold\n",
        "from tqdm import tqdm\n",
        "import matplotlib.pyplot as plt\n",
        "\n",
        "# Separate features and target\n",
        "X = data.drop('Class', axis=1)  # Assuming 'Class' is the target column\n",
        "y = data['Class']\n",
        "\n",
        "kf = KFold(n_splits=5, shuffle=True, random_state=42)\n",
        "accs = []\n",
        "\n",
        "for depth in tqdm(range(1, 6)):\n",
        "    # List to store the fold accuracies\n",
        "    fold_accs = []\n",
        "    \n",
        "    # Perform the K-Fold cross validation\n",
        "    for train_index, test_index in kf.split(X):\n",
        "        # Split data into training and testing sets\n",
        "        X_train, X_test = X.iloc[train_index], X.iloc[test_index]\n",
        "        y_train, y_test = y.iloc[train_index], y.iloc[test_index]\n",
        "        \n",
        "        # Initialize the model with the current depth\n",
        "        model = De(max_depth=depth)\n",
        "        \n",
        "        # Fit the model\n",
        "        model.fit(X_train, y_train)\n",
        "        \n",
        "        # Predict on the test set\n",
        "        predictions = model.predict(X_test)\n",
        "        \n",
        "        # Calculate accuracy and append to the list of fold accuracies\n",
        "        fold_accs.append(accuracy_score(y_test, predictions))\n",
        "    \n",
        "    # Calculate the average accuracy across all folds and append to the list of accuracies\n",
        "    accs.append(sum(fold_accs) / len(fold_accs))\n",
        "plt.plot(range(1,6), accs)\n",
        "plt.xticks(range(1,6))\n",
        "plt.show()"
      ]
    },
    {
      "cell_type": "markdown",
      "metadata": {
        "id": "KLHtD2ElyTOz"
      },
      "source": [
        "Use that depth and print the test score. Is it better generalizer than the first one? What do you conclude about the tuning proccess using validation? (answer to yourselves)."
      ]
    },
    {
      "cell_type": "markdown",
      "metadata": {
        "id": "VumpPbweXEmp"
      },
      "source": [
        "## Question 4 - PAC, Bias vs Variance\n",
        "See attached pdf in moodle assignment!"
      ]
    },
    {
      "cell_type": "markdown",
      "metadata": {
        "id": "2xaWiAsF0pTX"
      },
      "source": [
        "## Question 5 - Polynomial regression - 5 pts bonus\n",
        "In this problem you will extend regression to fit nonlinear functions.<br/>\n",
        "The dataset contains one feature (x) and continiuos prediction (y)."
      ]
    },
    {
      "cell_type": "code",
      "execution_count": null,
      "metadata": {
        "id": "hcvqEURI1G2Y"
      },
      "outputs": [],
      "source": [
        "# Import libraries\n",
        "\n",
        "import numpy as np\n",
        "import pandas as pd\n",
        "import matplotlib.pyplot as plt"
      ]
    },
    {
      "cell_type": "code",
      "execution_count": null,
      "metadata": {
        "cellView": "form",
        "id": "7djVEPUN1lmm"
      },
      "outputs": [],
      "source": [
        "#@title Load data\n",
        "\n",
        "import requests\n",
        "from io import BytesIO\n",
        "\n",
        "def load_npy_file(url):\n",
        "  response = requests.get(url)\n",
        "  if response.status_code == 200:\n",
        "    npy_data = np.load(BytesIO(response.content), allow_pickle=True).item()\n",
        "    return npy_data\n",
        "  else:\n",
        "    return None"
      ]
    },
    {
      "cell_type": "code",
      "execution_count": null,
      "metadata": {
        "id": "2mAZ5cnz1qRt"
      },
      "outputs": [],
      "source": [
        "data_dict = load_npy_file('https://sharon.srworkspace.com/ml/datasets/hw3/linreg_data_2d.npy')\n",
        "\n",
        "x_train = data_dict['x_train']\n",
        "y_train = data_dict['y_train']\n",
        "x_test = data_dict['x_test']\n",
        "y_test = data_dict['y_test']"
      ]
    },
    {
      "cell_type": "markdown",
      "metadata": {
        "id": "YKhCv_xc51ON"
      },
      "source": [
        "Look at the plot of the training data. What do you think was the function generated the data? <br/>\n",
        "<font color='red'>Write your answer here</font>"
      ]
    },
    {
      "cell_type": "code",
      "execution_count": null,
      "metadata": {
        "id": "hKxQ_WPg51is"
      },
      "outputs": [],
      "source": [
        "plt.scatter(x_train, y_train, color='blue', s=2)\n",
        "plt.xlabel('X')\n",
        "plt.ylabel('Y')\n",
        "plt.title('Generated Train')\n",
        "plt.show()"
      ]
    },
    {
      "cell_type": "markdown",
      "metadata": {
        "id": "JhkNIlk915eu"
      },
      "source": [
        "We will assume the polynomial regression problem of the following form:\n",
        "$$ y=a_0+a_1x+a_2x^2+...+a_dx^d $$\n",
        "The function ```get_solution``` will find the cofficients, similarly to methods done in simple linear regression. <br/>\n",
        "The function ```calc``` will recieve a new sample and the cofficients found, and will predict the output.\n",
        "\n",
        "\n",
        "\n"
      ]
    },
    {
      "cell_type": "code",
      "execution_count": null,
      "metadata": {
        "id": "wNYVnO571y2s"
      },
      "outputs": [],
      "source": [
        "def get_solution(X, y, degree=2):\n",
        "    # Implement here\n",
        "\n",
        "def calc(x, coefs):\n",
        "    # Implement here"
      ]
    },
    {
      "cell_type": "markdown",
      "metadata": {
        "id": "u8NvvzDE6mNK"
      },
      "source": [
        "Running the current code with $d=1$ yields a simple regressor.\n",
        "- Which $d$ works best?\n",
        "- According to your previous answer, which $d$ <u>is expected</u> to work the best?\n",
        "- Try to explain what happens when you try $d+1$ and why? Was the solver you implemented enough?\n",
        "\n",
        "<font color='red'>Write your answers here and explain them</font>"
      ]
    },
    {
      "cell_type": "code",
      "execution_count": null,
      "metadata": {
        "id": "ON7wx4Xp6nDP"
      },
      "outputs": [],
      "source": [
        "xx = np.arange(0, 100, 0.1)\n",
        "yy = []\n",
        "\n",
        "weights = get_solution(x_train, y_train, 1)\n",
        "\n",
        "for samp in xx:\n",
        "  yy.append(calc(samp, weights))\n",
        "\n",
        "plt.scatter(x_train, y_train, color='blue', s=2, label='train')\n",
        "plt.scatter(x_test, y_test, color='red', s=2, label='test')\n",
        "plt.plot(xx, yy, color='black')\n",
        "plt.show()"
      ]
    }
  ],
  "metadata": {
    "colab": {
      "collapsed_sections": [
        "QjmNAc9voNi9",
        "rs2flQjZL-D7",
        "loHiZy0lVzT0",
        "2xaWiAsF0pTX"
      ],
      "provenance": []
    },
    "gpuClass": "standard",
    "kernelspec": {
      "display_name": "Python 3",
      "name": "python3"
    },
    "language_info": {
      "codemirror_mode": {
        "name": "ipython",
        "version": 3
      },
      "file_extension": ".py",
      "mimetype": "text/x-python",
      "name": "python",
      "nbconvert_exporter": "python",
      "pygments_lexer": "ipython3",
      "version": "3.12.1"
    }
  },
  "nbformat": 4,
  "nbformat_minor": 0
}
